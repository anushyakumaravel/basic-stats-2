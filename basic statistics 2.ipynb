{
 "cells": [
  {
   "cell_type": "markdown",
   "id": "159d8caf-1dee-490b-9746-dc0325aeebe5",
   "metadata": {},
   "source": [
    "# BASIC STATISTICS 2"
   ]
  },
  {
   "cell_type": "markdown",
   "id": "bf88f752-4395-4479-a29e-81bc8e20a13b",
   "metadata": {},
   "source": [
    "## Build 99% Confidence Interval Using Sample Standard Deviation"
   ]
  },
  {
   "cell_type": "code",
   "execution_count": 5,
   "id": "a91a8328-e61f-4eac-ad4e-5215f674c033",
   "metadata": {},
   "outputs": [],
   "source": [
    "import numpy as np\n",
    "from scipy import stats\n"
   ]
  },
  {
   "cell_type": "code",
   "execution_count": 8,
   "id": "1e172665-6667-457e-ba0c-86175633438e",
   "metadata": {},
   "outputs": [
    {
     "name": "stdout",
     "output_type": "stream",
     "text": [
      "Requirement already satisfied: numpy in c:\\users\\lenovo\\anaconda3\\lib\\site-packages (1.26.4)Note: you may need to restart the kernel to use updated packages.\n",
      "\n",
      "Requirement already satisfied: scipy in c:\\users\\lenovo\\anaconda3\\lib\\site-packages (1.13.1)\n"
     ]
    }
   ],
   "source": [
    "pip install numpy scipy"
   ]
  },
  {
   "cell_type": "code",
   "execution_count": 12,
   "id": "05e3e2cb-1fb7-49f6-a89e-3b25d2823fa9",
   "metadata": {},
   "outputs": [
    {
     "data": {
      "text/plain": [
       "1.2386666666666666"
      ]
     },
     "execution_count": 12,
     "metadata": {},
     "output_type": "execute_result"
    }
   ],
   "source": [
    "# sample data\n",
    "sample_data = np.array([1.13, 1.55, 1.43, 0.92, 1.25, 1.36, 1.32, 0.85, 1.07, 1.48, 1.20, 1.33, 1.18, 1.22, 1.29])\n",
    "# calculate sample mean and standard deviation\n",
    "sample_mean = np.mean(sample_data)\n",
    "sample_mean"
   ]
  },
  {
   "cell_type": "code",
   "execution_count": 14,
   "id": "9820a2bc-c3cd-418b-b347-6db5598f9dcd",
   "metadata": {},
   "outputs": [
    {
     "name": "stdout",
     "output_type": "stream",
     "text": [
      "0.18661427836285438\n"
     ]
    }
   ],
   "source": [
    "sample_std = np.std(sample_data)\n",
    "print(sample_std)\n"
   ]
  },
  {
   "cell_type": "code",
   "execution_count": 22,
   "id": "18a4dbd1-bfa3-42fd-8f34-20c9b44a7313",
   "metadata": {},
   "outputs": [
    {
     "name": "stdout",
     "output_type": "stream",
     "text": [
      "Sample Mean: 1.2386666666666666\n",
      "Sample Standard Deviation: 0.18661427836285438\n",
      "99% Confidence Interval: (1.095231668626123, 1.3821016647072102)\n"
     ]
    }
   ],
   "source": [
    "# sample size\n",
    "n = len(sample_data)\n",
    "# confidence level(99%)\n",
    "confidence_level = 0.99\n",
    "# caluculate critical t-value\n",
    "t_crit = stats.t.ppf((1+confidence_level)/2,n-1)\n",
    "# Calculate margin of error\n",
    "margin_error = t_crit * (sample_std / np.sqrt(n))\n",
    "\n",
    "# Construct 99% confidence interval\n",
    "lower_bound = sample_mean - margin_error\n",
    "upper_bound = sample_mean + margin_error\n",
    "print(f\"Sample Mean: {sample_mean}\")\n",
    "print(f\"Sample Standard Deviation: {sample_std}\")\n",
    "print(f\"99% Confidence Interval: ({lower_bound}, {upper_bound})\")"
   ]
  },
  {
   "cell_type": "markdown",
   "id": "578be41a-b2f1-47d8-9221-a7dd9b12abe7",
   "metadata": {},
   "source": [
    "# b. Build 99% Confidence Interval Using Known Population Standard Deviation"
   ]
  },
  {
   "cell_type": "code",
   "execution_count": null,
   "id": "327f29b8-88e8-49de-b210-d4d0c83825ca",
   "metadata": {},
   "outputs": [],
   "source": [
    "import numpy as np\n",
    "from scipy import stats"
   ]
  },
  {
   "cell_type": "code",
   "execution_count": 25,
   "id": "88490242-5ba3-4a26-8d00-ec3ac89079cc",
   "metadata": {},
   "outputs": [
    {
     "name": "stdout",
     "output_type": "stream",
     "text": [
      "0.18661427836285438\n"
     ]
    }
   ],
   "source": [
    " #sample data\n",
    "sample_data = np.array([1.13, 1.55, 1.43, 0.92, 1.25, 1.36, 1.32, 0.85, 1.07, 1.48, 1.20, 1.33, 1.18, 1.22, 1.29])\n",
    "sample_std = np.std(sample_data)\n",
    "print(sample_std)"
   ]
  },
  {
   "cell_type": "code",
   "execution_count": 27,
   "id": "f7115faa-28b9-471c-98dc-171dcb1782c5",
   "metadata": {},
   "outputs": [],
   "source": [
    "# Population standard deviation (known)\n",
    "population_std = 0.2\n",
    "\n",
    "# Sample size\n",
    "n = len(sample_data)\n",
    "\n",
    "# Calculate sample mean\n",
    "sample_mean = np.mean(sample_data)\n",
    "\n",
    "# Confidence level (99%)\n",
    "confidence_level = 0.99\n",
    "\n",
    "# Calculate critical z-value (for 99% confidence)\n",
    "z_crit = stats.norm.ppf((1 + confidence_level) / 2)\n",
    "\n",
    "# Calculate margin of error\n",
    "margin_error = z_crit * (population_std / np.sqrt(n))\n",
    "\n",
    "# Construct 99% confidence interval\n",
    "lower_bound = sample_mean - margin_error\n",
    "upper_bound = sample_mean + margin_error"
   ]
  },
  {
   "cell_type": "code",
   "execution_count": 29,
   "id": "a8bcd4bf-6c38-4293-83ca-efd330f79c3f",
   "metadata": {},
   "outputs": [
    {
     "name": "stdout",
     "output_type": "stream",
     "text": [
      "Sample Mean: 1.2387 million characters\n",
      "Population Standard Deviation: 0.2000 million characters\n",
      "Sample Size: 15\n",
      "Critical Z-Value: 2.5758\n",
      "Margin of Error: 0.1330 million characters\n",
      "Confidence Interval: (1.1057, 1.3717) million characters\n"
     ]
    }
   ],
   "source": [
    "print(f\"Sample Mean: {sample_mean:.4f} million characters\")\n",
    "print(f\"Population Standard Deviation: {population_std:.4f} million characters\")\n",
    "print(f\"Sample Size: {n}\")\n",
    "print(f\"Critical Z-Value: {z_crit:.4f}\")\n",
    "print(f\"Margin of Error: {margin_error:.4f} million characters\")\n",
    "print(f\"Confidence Interval: ({lower_bound:.4f}, {upper_bound:.4f}) million characters\")"
   ]
  },
  {
   "cell_type": "code",
   "execution_count": null,
   "id": "21bdacb1-8b00-469c-9966-f6e8a50ebbf5",
   "metadata": {},
   "outputs": [],
   "source": []
  },
  {
   "cell_type": "code",
   "execution_count": null,
   "id": "7bfbe0ca-dbfc-4eea-924d-a8987fab2270",
   "metadata": {},
   "outputs": [],
   "source": []
  },
  {
   "cell_type": "code",
   "execution_count": null,
   "id": "31bebe76-05e8-4a25-b3e3-b8003a5d9c66",
   "metadata": {},
   "outputs": [],
   "source": []
  },
  {
   "cell_type": "code",
   "execution_count": null,
   "id": "aa218beb-0934-499e-8e07-64b6a9b83191",
   "metadata": {},
   "outputs": [],
   "source": []
  },
  {
   "cell_type": "code",
   "execution_count": null,
   "id": "26be93eb-8f07-4792-9420-a56bf04b9d9f",
   "metadata": {},
   "outputs": [],
   "source": []
  },
  {
   "cell_type": "code",
   "execution_count": null,
   "id": "02a38aa2-4d4d-463b-8aee-a09875e63cdc",
   "metadata": {},
   "outputs": [],
   "source": []
  }
 ],
 "metadata": {
  "kernelspec": {
   "display_name": "Python 3 (ipykernel)",
   "language": "python",
   "name": "python3"
  },
  "language_info": {
   "codemirror_mode": {
    "name": "ipython",
    "version": 3
   },
   "file_extension": ".py",
   "mimetype": "text/x-python",
   "name": "python",
   "nbconvert_exporter": "python",
   "pygments_lexer": "ipython3",
   "version": "3.12.4"
  }
 },
 "nbformat": 4,
 "nbformat_minor": 5
}
